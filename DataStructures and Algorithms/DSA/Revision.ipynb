{
 "cells": [
  {
   "cell_type": "code",
   "execution_count": null,
   "metadata": {},
   "outputs": [],
   "source": [
    "\"\"\"\n",
    "Recursive binary search\n",
    "\"\"\"\n",
    "def recursive_binary_search(elements: list, target: any, counter: int = 0):\n",
    "    if len(elements) == 0:\n",
    "        return -1\n",
    "    else: \n",
    "        midpoint = (len(elements) // 2)\n",
    "\n",
    "        if elements[midpoint] == target:\n",
    "            counter = counter + midpoint\n",
    "\n",
    "            return True, counter\n",
    "        \n",
    "        elif elements[midpoint] < target:\n",
    "            return recursive_binary_search(elements[midpoint +1 : ], target, counter= midpoint + 1)\n",
    "        else:\n",
    "            return recursive_binary_search(elements[: midpoint], target, counter)\n",
    "\n",
    "\n",
    "\"\"\"\n",
    "linear binary search\n",
    "\"\"\""
   ]
  },
  {
   "cell_type": "code",
   "execution_count": null,
   "metadata": {},
   "outputs": [],
   "source": [
    "try:\n",
    "    pass\n",
    "except Exception:\n",
    "    raise Exception(f\"There was an exception\")\n",
    "\n",
    "try:\n",
    "    pass\n",
    "except Exception as e:\n",
    "    print(f'There was an exception: {e}')"
   ]
  },
  {
   "cell_type": "markdown",
   "metadata": {},
   "source": [
    "Multy threading"
   ]
  },
  {
   "cell_type": "code",
   "execution_count": 5,
   "metadata": {},
   "outputs": [
    {
     "name": "stdout",
     "output_type": "stream",
     "text": [
      "Start of the program.\n",
      "End of program.\n"
     ]
    }
   ],
   "source": [
    "import time, threading\n",
    "\n",
    "print('Start of the program.')\n",
    "\n",
    "\n",
    "def Nap():\n",
    "    time.sleep(5)\n",
    "    print('Wake up.')\n",
    "print('End of program.')"
   ]
  },
  {
   "cell_type": "code",
   "execution_count": 8,
   "metadata": {},
   "outputs": [
    {
     "name": "stdout",
     "output_type": "stream",
     "text": [
      "The first code to run...\n",
      "last programme to run\n"
     ]
    },
    {
     "name": "stdout",
     "output_type": "stream",
     "text": [
      "Threaded code\n"
     ]
    }
   ],
   "source": [
    "print(\"The first code to run...\")\n",
    "\n",
    "def function():\n",
    "    time.sleep(5)\n",
    "    print('Threaded code')\n",
    "\n",
    "threader=threading.Thread(target=function)\n",
    "threader.start()\n",
    "\n",
    "print(\"last programme to run\")\n",
    "\n"
   ]
  },
  {
   "cell_type": "code",
   "execution_count": 33,
   "metadata": {},
   "outputs": [],
   "source": [
    "# A linked List Implimentation\n",
    "'''\n",
    "Methods:\n",
    "    1. Count\n",
    "    2. Read the elements\n",
    "    3. Insert\n",
    "    4. To find return an element\n",
    "    5. To delete\n",
    "'''\n",
    "class Node():\n",
    "    def __init__(self, node: any):\n",
    "        assert node is not None, f\"The node is empty!\"\n",
    "\n",
    "        self.node = node\n",
    "        self.next = None\n",
    "\n",
    "    # Setters\n",
    "    def set_node(self, val):\n",
    "        if val:\n",
    "            self.node = val\n",
    "            return self.node\n",
    "        else:\n",
    "            if val is None:\n",
    "                raise Exception (f\"{val} is empty\")\n",
    "            \n",
    "    def set_next(self, val):\n",
    "        self.next = val\n",
    "        return self.next\n",
    "    \n",
    "    # Getters\n",
    "    def get_value(self):\n",
    "        return self.node\n",
    "    \n",
    "    def get_next(self):\n",
    "        return self.next\n",
    "    \n",
    "    # Internal representation\n",
    "    \n",
    "    def __repr__(self) -> str:\n",
    "        return '<Node: %s>' %self.node\n",
    "    \n",
    "\n",
    "class LinkedList():\n",
    "\n",
    "    def __init__(self):\n",
    "        self.head = None\n",
    "        self.counter = 0\n",
    "\n",
    "    def insert(self, value: any):\n",
    "\n",
    "        if value is not None:\n",
    "            new = Node(value)\n",
    "            new.set_next(self.head)\n",
    "            self.head = new\n",
    "\n",
    "            self.counter += 1\n",
    "\n",
    "        else:\n",
    "            print(\"Provide a vlaid element!\")\n",
    "\n",
    "\n",
    "    def delete(self, target):\n",
    "        current = self.head\n",
    "        previous = None\n",
    "\n",
    "        while current is not None:\n",
    "            if self.head.get_value() == target:\n",
    "                self.head = current.get_next()\n",
    "                return\n",
    "\n",
    "            elif current.get_value() == target:\n",
    "                previous.set_next(current.get_next())\n",
    "                return                \n",
    "\n",
    "            else:\n",
    "                previous = current\n",
    "                current = current.get_next()\n",
    "\n",
    "\n",
    "\n",
    "    def find(self, target):\n",
    "        current = self.head\n",
    "\n",
    "        while current is not None:\n",
    "            if current.get_value() == target:\n",
    "                return current\n",
    "            else:\n",
    "                current = current.get_next()\n",
    "        return None\n",
    "\n",
    "\n",
    "    def __repr__(self) -> str:\n",
    "        collection = [\n",
    "        ]\n",
    "\n",
    "        current = self.head\n",
    "\n",
    "        while current is not None:\n",
    "            if current == self.head.get_value():\n",
    "                collection.append(\n",
    "                    '[Head: %s]' %self.head.get_value()\n",
    "                )\n",
    "            elif current.get_next() is None:\n",
    "                collection.append(\n",
    "                    '[Tail: %s]' %current.get_value()\n",
    "                )\n",
    "            else:\n",
    "                collection.append(\n",
    "                    '[ %s ]' %current.get_value()\n",
    "                )\n",
    "            \n",
    "            current = current.get_next()\n",
    "            \n",
    "        return '->'.join(collection)\n"
   ]
  },
  {
   "cell_type": "code",
   "execution_count": 35,
   "metadata": {},
   "outputs": [
    {
     "name": "stdout",
     "output_type": "stream",
     "text": [
      "[ 830 ]->[ 0 ]->[ 350 ]->[ 330 ]->[ 530 ]->[ 30 ]->[ 20 ]->[Tail: 10]\n"
     ]
    }
   ],
   "source": [
    "my_list = LinkedList()\n",
    "\n",
    "# Insert elements into the linked list\n",
    "my_list.insert(10)\n",
    "my_list.insert(20)\n",
    "my_list.insert(30)\n",
    "my_list.insert(530)\n",
    "my_list.insert(330)\n",
    "my_list.insert(350)\n",
    "my_list.insert(0)\n",
    "my_list.insert(830)\n",
    "\n",
    "#my_list.find(30)\n",
    "#my_list.delete(530)\n",
    "print(my_list)\n"
   ]
  },
  {
   "cell_type": "code",
   "execution_count": 44,
   "metadata": {},
   "outputs": [
    {
     "data": {
      "text/plain": [
       "True"
      ]
     },
     "execution_count": 44,
     "metadata": {},
     "output_type": "execute_result"
    }
   ],
   "source": [
    "data = [21,34,56,234,1,5,786,456,3452,234]\n",
    "\n",
    "def recuresive_func(elements: list, target: int):\n",
    "    if len(elements) > 0:\n",
    "        midpoint = (len(elements) // 2)\n",
    "\n",
    "        if elements[midpoint] == target:\n",
    "            return True\n",
    "        elif elements[midpoint] < target:\n",
    "            return recuresive_func(elements[midpoint+1: ], target)\n",
    "        else:\n",
    "            return recuresive_func(elements[:midpoint], target)\n",
    "    else:\n",
    "        return -1\n",
    "        \n",
    "recuresive_func(data, target=456)"
   ]
  }
 ],
 "metadata": {
  "kernelspec": {
   "display_name": "Python 3",
   "language": "python",
   "name": "python3"
  },
  "language_info": {
   "codemirror_mode": {
    "name": "ipython",
    "version": 3
   },
   "file_extension": ".py",
   "mimetype": "text/x-python",
   "name": "python",
   "nbconvert_exporter": "python",
   "pygments_lexer": "ipython3",
   "version": "3.11.8"
  }
 },
 "nbformat": 4,
 "nbformat_minor": 2
}
