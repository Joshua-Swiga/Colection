{
 "cells": [
  {
   "cell_type": "code",
   "execution_count": 5,
   "metadata": {},
   "outputs": [
    {
     "name": "stdout",
     "output_type": "stream",
     "text": [
      "33\n"
     ]
    }
   ],
   "source": [
    "# Linear Binary Search\n",
    "\n",
    "def linear_binary_search(elements: list, target: any = 34):\n",
    "    if target is not None:    \n",
    "\n",
    "        first_index = 0\n",
    "        last_index = len(elements) - 1\n",
    "\n",
    "        while first_index < last_index:\n",
    "            midpoint = (first_index + last_index) // 2\n",
    "\n",
    "            if elements[midpoint] == target:\n",
    "                return midpoint\n",
    "            \n",
    "            elif elements[midpoint] < target:\n",
    "                first_index = midpoint + 1\n",
    "            else:\n",
    "                last_index = midpoint - 1\n",
    "        \n",
    "        return None\n",
    "    \n",
    "    print(\"Please provide a valid value\")\n",
    "\n",
    "linear_range = range(1, 100 + 1)\n",
    "linear_answer = linear_binary_search(linear_range)\n",
    "print(linear_answer)"
   ]
  },
  {
   "cell_type": "code",
   "execution_count": 17,
   "metadata": {},
   "outputs": [
    {
     "name": "stdout",
     "output_type": "stream",
     "text": [
      "(True, 37)\n"
     ]
    }
   ],
   "source": [
    "# Recursive Bnary Search\n",
    "\n",
    "def recursive_binary_search(elements: list, target: any = 34, position: int = 0):\n",
    "\n",
    "    if len(elements) >= 1:\n",
    "        midpoint = (len(elements) // 2)\n",
    "\n",
    "        if elements[midpoint] == target:\n",
    "            return True, position\n",
    "        elif elements[midpoint] > target:\n",
    "            return recursive_binary_search(elements[ : midpoint], target, position + 1)\n",
    "        else:\n",
    "            return recursive_binary_search(elements[midpoint + 1 : ], target, position + midpoint + 1)\n",
    "    return None\n",
    "\n",
    "recursive_range = list(range(1, 100 + 1))\n",
    "recursive_answer = recursive_binary_search(recursive_range)\n",
    "print(recursive_answer)"
   ]
  }
 ],
 "metadata": {
  "kernelspec": {
   "display_name": "Python 3",
   "language": "python",
   "name": "python3"
  },
  "language_info": {
   "codemirror_mode": {
    "name": "ipython",
    "version": 3
   },
   "file_extension": ".py",
   "mimetype": "text/x-python",
   "name": "python",
   "nbconvert_exporter": "python",
   "pygments_lexer": "ipython3",
   "version": "3.11.9"
  }
 },
 "nbformat": 4,
 "nbformat_minor": 2
}
