{
 "cells": [
  {
   "cell_type": "code",
   "execution_count": 1,
   "metadata": {},
   "outputs": [],
   "source": [
    "import smtplib\n",
    "from email.mime.multipart import MIMEMultipart\n",
    "from email.mime.text import MIMEText\n",
    "import time"
   ]
  },
  {
   "cell_type": "code",
   "execution_count": 6,
   "metadata": {},
   "outputs": [
    {
     "name": "stdout",
     "output_type": "stream",
     "text": [
      "info@codefusion.co.ke\n",
      "info@graph.co.ke\n",
      "mail@kromsystems.com\n",
      "info@eujimsolutions.com\n",
      "info@synacor.co.ke\n",
      "info@cloudbackup.co.ke\n",
      "info@ngothotech.com\n",
      "info@datarecovery.co.ke\n",
      "info@kangai.co.ke\n",
      "info@sawasawa.co.ug\n",
      "info@sawasawa.com.gh\n",
      "info@abnosoftwares.com\n",
      "info.india@abnosoftwares.com\n",
      "sales@abnosoftwares.com\n",
      "info@ilaniconcepts.com\n",
      "sales@itlweb.com\n",
      "support@itlweb.com\n",
      "info@itlweb.com\n",
      "info@minesoftwares.com\n",
      "info@fluidtechglobal.com\n",
      "podii@podiihq.com\n",
      "info@arifahub.com\n",
      "info@softleek.com\n",
      "info@invent.africa\n",
      "info@sawasawa.co.ke\n",
      "info@crystaltech.co.ke\n",
      "sales@greytrix.com\n",
      "info@axtech.co.ke\n",
      "info@webmetro.co.ke\n",
      "info@absolutecorporatesolutions.com\n",
      "support@webmetro.co.ke\n",
      "info@brimmatech.co.ke\n",
      "info@brimmatech.co.ke\n",
      "admin@inceptor.co.ke\n",
      "info@softwareske.com\n",
      "info@birltex.com\n",
      "cysparkstechnologies@gmail.com\n",
      "info@questdesigners.com\n",
      "info@trendpro.co.ke\n",
      "sales@smartwebkenya.com\n",
      "info@technobraingroup.com\n",
      "info@dta.co.ke\n",
      "info@pathwaysinternational.com\n",
      "info@risivonneinvestments.com\n",
      "info@jdt.co.ke\n",
      "info@cryptonixsoftwares.com\n",
      "info@liquidbubble.com\n",
      "info@tierdata.co.ke\n",
      "support@zelisline.co.ke\n",
      "info@teknikalitech.com\n",
      "careers@growthpad.co.ke\n",
      "info@glitexsolutions.co.ke\n",
      "info@tawaqalsoft.com\n",
      "enquiries@zelisline.co.ke\n",
      "info@sawasawa.co.rw\n",
      "\n"
     ]
    }
   ],
   "source": [
    "email_file = r'C:\\Users\\Swiga\\OneDrive\\Desktop\\public projects\\Email Sender\\emails'\n",
    "\n",
    "with open (email_file, 'r', encoding='utf-8') as f:\n",
    "    reader = f.readlines()\n",
    "    for email in reader:\n",
    "        print(email.strip().lower())\n"
   ]
  },
  {
   "cell_type": "code",
   "execution_count": 2,
   "metadata": {},
   "outputs": [
    {
     "ename": "FileNotFoundError",
     "evalue": "[Errno 2] No such file or directory: 'emails.txt'",
     "output_type": "error",
     "traceback": [
      "\u001b[1;31m---------------------------------------------------------------------------\u001b[0m",
      "\u001b[1;31mFileNotFoundError\u001b[0m                         Traceback (most recent call last)",
      "Cell \u001b[1;32mIn[2], line 2\u001b[0m\n\u001b[0;32m      1\u001b[0m email_file \u001b[38;5;241m=\u001b[39m \u001b[38;5;124m'\u001b[39m\u001b[38;5;124memails.txt\u001b[39m\u001b[38;5;124m'\u001b[39m\n\u001b[1;32m----> 2\u001b[0m \u001b[38;5;28;01mwith\u001b[39;00m \u001b[38;5;28mopen\u001b[39m (email_file, \u001b[38;5;124m'\u001b[39m\u001b[38;5;124mr\u001b[39m\u001b[38;5;124m'\u001b[39m, encoding\u001b[38;5;241m=\u001b[39m\u001b[38;5;124m'\u001b[39m\u001b[38;5;124mutf-8\u001b[39m\u001b[38;5;124m'\u001b[39m) \u001b[38;5;28;01mas\u001b[39;00m f:\n\u001b[0;32m      3\u001b[0m     reader \u001b[38;5;241m=\u001b[39m f\u001b[38;5;241m.\u001b[39mreadlines()\n\u001b[0;32m      5\u001b[0m \u001b[38;5;28;01mtry\u001b[39;00m:\n",
      "File \u001b[1;32mc:\\Users\\Swiga\\anaconda3\\Lib\\site-packages\\IPython\\core\\interactiveshell.py:310\u001b[0m, in \u001b[0;36m_modified_open\u001b[1;34m(file, *args, **kwargs)\u001b[0m\n\u001b[0;32m    303\u001b[0m \u001b[38;5;28;01mif\u001b[39;00m file \u001b[38;5;129;01min\u001b[39;00m {\u001b[38;5;241m0\u001b[39m, \u001b[38;5;241m1\u001b[39m, \u001b[38;5;241m2\u001b[39m}:\n\u001b[0;32m    304\u001b[0m     \u001b[38;5;28;01mraise\u001b[39;00m \u001b[38;5;167;01mValueError\u001b[39;00m(\n\u001b[0;32m    305\u001b[0m         \u001b[38;5;124mf\u001b[39m\u001b[38;5;124m\"\u001b[39m\u001b[38;5;124mIPython won\u001b[39m\u001b[38;5;124m'\u001b[39m\u001b[38;5;124mt let you open fd=\u001b[39m\u001b[38;5;132;01m{\u001b[39;00mfile\u001b[38;5;132;01m}\u001b[39;00m\u001b[38;5;124m by default \u001b[39m\u001b[38;5;124m\"\u001b[39m\n\u001b[0;32m    306\u001b[0m         \u001b[38;5;124m\"\u001b[39m\u001b[38;5;124mas it is likely to crash IPython. If you know what you are doing, \u001b[39m\u001b[38;5;124m\"\u001b[39m\n\u001b[0;32m    307\u001b[0m         \u001b[38;5;124m\"\u001b[39m\u001b[38;5;124myou can use builtins\u001b[39m\u001b[38;5;124m'\u001b[39m\u001b[38;5;124m open.\u001b[39m\u001b[38;5;124m\"\u001b[39m\n\u001b[0;32m    308\u001b[0m     )\n\u001b[1;32m--> 310\u001b[0m \u001b[38;5;28;01mreturn\u001b[39;00m io_open(file, \u001b[38;5;241m*\u001b[39margs, \u001b[38;5;241m*\u001b[39m\u001b[38;5;241m*\u001b[39mkwargs)\n",
      "\u001b[1;31mFileNotFoundError\u001b[0m: [Errno 2] No such file or directory: 'emails.txt'"
     ]
    }
   ],
   "source": [
    "try:\n",
    "\n",
    "    message = MIMEMultipart()\n",
    "    message['From'] = 'joshuajuniorswiga@gmail.com'\n",
    "    message['To'] = email\n",
    "    message['Subject'] = 'Seeking Software Engineering Position'\n",
    "    body = 'I hope this message finds you well. My name is Joshua Swiga, and I am a Machine Learning Specialist and Django professional.\\nI am reaching out to express my interest in any current or upcoming opportunities in the company.\\nI have a strong background in developing and deploying machine learning models, as well as building robust web applications using Django. I am particularly impressed with the institution\\'s innovative projects and believe my skills in Software Development would be a valuable addition to your team.\\nI have attached my resume for your consideration. I would be grateful for the opportunity to discuss how I can contribute to the success of the company.\\n\\nThank you for your time and consideration.\\nBest regards,\\nJoshua Swiga\\nhttps://www.linkedin.com/in/joshuaswiga/\\n0710308048\\njoshuajuniorswiga@gmail.com\\n'\n",
    "    message.attach(MIMEText(body, 'plain'))\n",
    "\n",
    "    try:\n",
    "        smtp_server = smtplib.SMTP('smtp.gmail.com', 587)  \n",
    "        smtp_server.starttls()\n",
    "        smtp_server.login('joshuajuniorswiga@gmail.com', ' ')\n",
    "    except Exception as e:\n",
    "        print(f\"Failed: {e}\")\n",
    "\n",
    "    try:\n",
    "        smtp_server.sendmail('joshuajuniorswiga@gmail.com', email, message.as_string())\n",
    "        print(\"Email sent\")\n",
    "        time.sleep(3)\n",
    "\n",
    "    except Exception as e:\n",
    "        print(f\"Failed to send email: {e}\\nStoped sending at {email}\")\n",
    "\n",
    "    smtp_server.quit()\n",
    "\n",
    "except Exception as e:\n",
    "    print(f'Failed: {e}')\n"
   ]
  }
 ],
 "metadata": {
  "kernelspec": {
   "display_name": "base",
   "language": "python",
   "name": "python3"
  },
  "language_info": {
   "codemirror_mode": {
    "name": "ipython",
    "version": 3
   },
   "file_extension": ".py",
   "mimetype": "text/x-python",
   "name": "python",
   "nbconvert_exporter": "python",
   "pygments_lexer": "ipython3",
   "version": "3.11.7"
  }
 },
 "nbformat": 4,
 "nbformat_minor": 2
}
