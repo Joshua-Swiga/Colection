{
 "cells": [
  {
   "cell_type": "code",
   "execution_count": 35,
   "metadata": {},
   "outputs": [],
   "source": [
    "import numpy as np"
   ]
  },
  {
   "cell_type": "code",
   "execution_count": 40,
   "metadata": {},
   "outputs": [],
   "source": [
    "# Covariance(x, y)/variance(x)\n",
    "independent_variable = np.array([10, 20, 30, 40, 50])\n",
    "dependent_variable = np.array([20, 40, 60, 80, 100])\n"
   ]
  },
  {
   "cell_type": "code",
   "execution_count": 37,
   "metadata": {},
   "outputs": [],
   "source": [
    "mean_of_x = np.mean(independent_variable)\n",
    "mean_of_y = np.mean(dependent_variable)"
   ]
  },
  {
   "cell_type": "code",
   "execution_count": 38,
   "metadata": {},
   "outputs": [],
   "source": [
    "upper_incrament_value = 0\n",
    "\n",
    "for x_value in independent_variable:\n",
    "    for y_value in dependent_variable:\n",
    "        \n",
    "        current_x = 0\n",
    "        current_y = 0\n",
    "     \n",
    "        current_x = x_value - mean_of_x\n",
    "        current_y = y_value - mean_of_y\n",
    "     \n",
    "        upper_incrament_value += (current_x * current_y)\n"
   ]
  },
  {
   "cell_type": "code",
   "execution_count": 39,
   "metadata": {},
   "outputs": [
    {
     "name": "stdout",
     "output_type": "stream",
     "text": [
      "The slope is: 0.0\n"
     ]
    }
   ],
   "source": [
    "lower_incrament = 0\n",
    "\n",
    "for ind_value in independent_variable:\n",
    "\n",
    "    sub = ind_value - mean_of_x\n",
    "    lower_incrament += (sub ** 2)\n",
    "\n",
    "try:\n",
    "    slope = upper_incrament_value / lower_incrament\n",
    "    print(f\"The slope is: {slope}\")\n",
    "except ZeroDivisionError as e:\n",
    "    print(f\"Invalid Division: {e}\")"
   ]
  },
  {
   "cell_type": "markdown",
   "metadata": {},
   "source": [
    "Each code snippet you've provided calculates the slope of a linear relationship, but they use different approaches to do so:\n",
    "\n",
    "1. **Covariance and Variance Method**: Calculates the covariance between the independent and dependent variables, then divides by the variance of the independent variable. This method provides a measure of the overall linear association between the variables.\n",
    "\n",
    "2. **Two-Point Formula**: Calculates the slope using two specific points from the dataset. This method gives insight into the rate of change between those two points but doesn't necessarily reflect the overall relationship between all data points.\n",
    "\n",
    "3. **`linregress` from `scipy.stats`**: Uses the method of least squares to fit a linear regression model to the data. This method minimizes the sum of squared residuals and provides a robust estimate of the slope that represents the overall relationship between the variables.\n",
    "\n",
    "Each method has its own strengths and weaknesses and may be more appropriate depending on the specific characteristics of your data and the insights you're looking to gain."
   ]
  }
 ],
 "metadata": {
  "kernelspec": {
   "display_name": "base",
   "language": "python",
   "name": "python3"
  },
  "language_info": {
   "codemirror_mode": {
    "name": "ipython",
    "version": 3
   },
   "file_extension": ".py",
   "mimetype": "text/x-python",
   "name": "python",
   "nbconvert_exporter": "python",
   "pygments_lexer": "ipython3",
   "version": "3.11.7"
  }
 },
 "nbformat": 4,
 "nbformat_minor": 2
}
