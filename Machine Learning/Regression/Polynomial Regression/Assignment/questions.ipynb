{
 "cells": [
  {
   "cell_type": "markdown",
   "metadata": {},
   "source": [
    "1.\t Differentiate\tbetween\tthe\tround(\t)\tand\tfloor(\t)\tfunctions\twith\tthe\thelp\tof\tsuitable\texample.\t\n",
    "2.\t Which\tstring\tmethod\tis\tused\tto\timplement\tthe\tfollowing:\t\n",
    "a. To\tcount\tthe\tnumber\tof\tcharacters\tin\tthe\tstring\t\n",
    "b. To\tchange\tthe\tfirst\tcharacter\tof\tthe\tstring\tin\tcapital\tletter\t\n",
    "c. To\tchange\tlowercase\tto\tuppercase\tletter\t\n",
    "d. To\tcheck\twhether\tthe\tgiven\tcharacter\tis\tletter\tor\ta\tnumber\t\n",
    "3.\t What\tare\tdefault\targuments\t?\t\n",
    "4.\t What\tis\tthe\tdifference\tbetween\tactual\tand\tformal\tparameters\t?\t\n",
    "5.\t What\tis\ta\trecursive\tfunction\t?\t\n",
    "6.\t What\tis\tthe\tdifference\tbetween\tbuilt‐in\tfunctions\tand\tmodules?\t\n",
    "7.\t What\tis\tthe\tdifference\tbetween\tlocal\tvariable\tand\tglobal\tvariable?\t\n",
    "8.\t What\tare\tthe\tadvantages\tof\twriting\tfunctions\twith\tkeyword\targuments\t?\t\n",
    "9.\t\t What\tdo\tyou\tmean\tby\tscope\tof\tvariables\t?\t\n",
    "10. Which of the following is valid arithmetic operator in Python:\n",
    "(i)//\t \t (ii)?\t \t (iii)<\t \t (iv)and\n",
    "11. Write the type of tokens from the following:\n",
    "\t\t\t\t\t\t\t\t (i)\tif\t\t \t (ii)\troll_no\t\n",
    "12. Which of the following are valid operators in Python:\n",
    "(i)\t**\t\t \t (ii)\t*/\t\t \t (iii)\tlike\t\t (iv)\t||\n",
    "\t\t\t\t (v)\tis\t\t \t (vi)\t^\t\t \t (vii)\tbetween\t(viii)\tin\t\n",
    "13. Which of the following can be used as valid variable identifier(s) in Python?\t\t\n",
    "(i)\t4thSum\t\t \t \t (ii)\tTotal\t\t\n",
    "(iii)\tNumber#\t\t \t (iv)\t_Data"
   ]
  }
 ],
 "metadata": {
  "kernelspec": {
   "display_name": "base",
   "language": "python",
   "name": "python3"
  },
  "language_info": {
   "codemirror_mode": {
    "name": "ipython",
    "version": 3
   },
   "file_extension": ".py",
   "mimetype": "text/x-python",
   "name": "python",
   "nbconvert_exporter": "python",
   "pygments_lexer": "ipython3",
   "version": "3.11.7"
  }
 },
 "nbformat": 4,
 "nbformat_minor": 2
}
