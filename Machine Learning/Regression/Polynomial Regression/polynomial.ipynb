{
 "cells": [
  {
   "cell_type": "markdown",
   "metadata": {},
   "source": [
    "sklearn for data minning\n",
    "scipy gives additional functions for dealing with numbers--- for performing numerical tasks.\n",
    "\n",
    "\n",
    "regression/openCV "
   ]
  },
  {
   "cell_type": "markdown",
   "metadata": {},
   "source": []
  },
  {
   "cell_type": "markdown",
   "metadata": {},
   "source": [
    "If you line is not fitting a stright line, we use polinomial. \n",
    "A line is drawn to cut all datapoints. \n",
    "\n",
    "Its called a line of polinomial regression.\n",
    "\n",
    "It draws a line to fit majority of the data\n",
    "\n",
    "\n",
    "---turing test (By Alan Turing)\n",
    "\n",
    "For drawing lines:\n",
    "    linear regression= scipy\n",
    "    multiple regression = sklear\n",
    "    polinomial regression =numpy\n",
    "\n",
    "make prediction if r-squared is more than 0.9 (close to one)"
   ]
  },
  {
   "cell_type": "code",
   "execution_count": 2,
   "metadata": {},
   "outputs": [],
   "source": [
    "import matplotlib.pyplot as plt\n",
    "import numpy\n"
   ]
  },
  {
   "cell_type": "code",
   "execution_count": 3,
   "metadata": {},
   "outputs": [],
   "source": [
    "x = [1,2,3,5,6,7,8,9,10,12,13,14,15,16,18,19,21,22]\n",
    "y = [100,90,80,60,60,55,60,65,70,70,75,76,78,79,90,99,99,100]\n",
    "\n",
    "# plt.scatter(x, y)\n",
    "# plt.show()"
   ]
  },
  {
   "cell_type": "code",
   "execution_count": 5,
   "metadata": {},
   "outputs": [
    {
     "name": "stdout",
     "output_type": "stream",
     "text": [
      "[ 1.          1.21212121  1.42424242  1.63636364  1.84848485  2.06060606\n",
      "  2.27272727  2.48484848  2.6969697   2.90909091  3.12121212  3.33333333\n",
      "  3.54545455  3.75757576  3.96969697  4.18181818  4.39393939  4.60606061\n",
      "  4.81818182  5.03030303  5.24242424  5.45454545  5.66666667  5.87878788\n",
      "  6.09090909  6.3030303   6.51515152  6.72727273  6.93939394  7.15151515\n",
      "  7.36363636  7.57575758  7.78787879  8.          8.21212121  8.42424242\n",
      "  8.63636364  8.84848485  9.06060606  9.27272727  9.48484848  9.6969697\n",
      "  9.90909091 10.12121212 10.33333333 10.54545455 10.75757576 10.96969697\n",
      " 11.18181818 11.39393939 11.60606061 11.81818182 12.03030303 12.24242424\n",
      " 12.45454545 12.66666667 12.87878788 13.09090909 13.3030303  13.51515152\n",
      " 13.72727273 13.93939394 14.15151515 14.36363636 14.57575758 14.78787879\n",
      " 15.         15.21212121 15.42424242 15.63636364 15.84848485 16.06060606\n",
      " 16.27272727 16.48484848 16.6969697  16.90909091 17.12121212 17.33333333\n",
      " 17.54545455 17.75757576 17.96969697 18.18181818 18.39393939 18.60606061\n",
      " 18.81818182 19.03030303 19.24242424 19.45454545 19.66666667 19.87878788\n",
      " 20.09090909 20.3030303  20.51515152 20.72727273 20.93939394 21.15151515\n",
      " 21.36363636 21.57575758 21.78787879 22.        ]\n"
     ]
    }
   ],
   "source": [
    "x = [1,2,3,5,6,7,8,9,10,12,13,14,15,16,18,19,21,22] \n",
    "y = [100,90,80,60,60,55,60,65,70,70,75,76,78,79,90,99,99,100]\n",
    "\n",
    "\n",
    "coefficient = numpy.polyfit(x, y, 3)\n",
    "mymodel = numpy.poly1d(coefficient)\n",
    "\n",
    "# print(coefficient)\n",
    "# print(mymodel)\n",
    "\n",
    "myline = numpy.linspace(min(x), max(x), 100)\n",
    "\n",
    "print(myline)\n",
    "\n",
    "# print(myline)\n",
    "# y_hut = mymodel(myline)\n",
    "# print(y_hut)\n",
    "# plt.scatter(x, y)\n",
    "# plt.plot(myline, mymodel(myline))\n",
    "# plt.show()\n",
    "\n",
    "\n",
    "# Also has r-squared...\n"
   ]
  },
  {
   "cell_type": "markdown",
   "metadata": {},
   "source": [
    "mymodel = numpy.poly1d(numpy.polyfit(x, y, 3))\n",
    "\n",
    "This consists of two main functions. polyfit() and poly1d()\n"
   ]
  },
  {
   "cell_type": "code",
   "execution_count": 6,
   "metadata": {},
   "outputs": [
    {
     "name": "stdout",
     "output_type": "stream",
     "text": [
      "0.9432150416451026\n"
     ]
    }
   ],
   "source": [
    "# Calculating r-squared\n",
    "from sklearn.metrics import r2_score\n",
    "\n",
    "x = [1,2,3,5,6,7,8,9,10,12,13,14,15,16,18,19,21,22]\n",
    "y = [100,90,80,60,60,55,60,65,70,70,75,76,78,79,90,99,99,100]\n",
    "\n",
    "mymodel = numpy.poly1d(numpy.polyfit(x, y, 3)) # Does the fitting to a degree of three.\n",
    "# This returns the slope/coefficient. \n",
    "\n",
    "\n",
    "#y, mymodel(x) --- computes proportion of variance \n",
    "print(r2_score(y, mymodel(x)))  \n"
   ]
  },
  {
   "cell_type": "code",
   "execution_count": 8,
   "metadata": {},
   "outputs": [
    {
     "name": "stdout",
     "output_type": "stream",
     "text": [
      "88.87331269698001\n"
     ]
    }
   ],
   "source": [
    "\n",
    "x = [1,2,3,5,6,7,8,9,10,12,13,14,15,16,18,19,21,22]\n",
    "y = [100,90,80,60,60,55,60,65,70,70,75,76,78,79,90,99,99,100]\n",
    "\n",
    "mymodel = numpy.poly1d(numpy.polyfit(x, y, 3))\n",
    "\n",
    "speed = mymodel(17)\n",
    "print(speed)"
   ]
  },
  {
   "cell_type": "markdown",
   "metadata": {},
   "source": [
    "Matrices for Evaluating Model Accuracy Below:"
   ]
  },
  {
   "cell_type": "code",
   "execution_count": null,
   "metadata": {},
   "outputs": [],
   "source": [
    "import numpy as np\n",
    "from sklearn.metrics import mean_squared_error, mean_absolute_error, r2_score\n",
    "\n",
    "# Example data\n",
    "x = np.array([1, 2, 3, 4, 5])\n",
    "y = np.array([1, 4, 9, 16, 25])\n",
    "\n",
    "# Fit a quadratic polynomial (degree 2)\n",
    "coefficients = np.polyfit(x, y, 2)\n",
    "mymodel = np.poly1d(coefficients)\n",
    "\n",
    "# Predicted values\n",
    "y_pred = mymodel(x)\n",
    "\n",
    "# Calculate SSE\n",
    "sse = np.sum((y - y_pred) ** 2)\n",
    "\n",
    "# Calculate MSE\n",
    "mse = mean_squared_error(y, y_pred)\n",
    "\n",
    "# Calculate RMSE\n",
    "rmse = np.sqrt(mse)\n",
    "\n",
    "# Calculate MAE\n",
    "mae = mean_absolute_error(y, y_pred)\n",
    "\n",
    "# Calculate R^2\n",
    "r2 = r2_score(y, y_pred)\n",
    "\n",
    "print(f\"SSE: {sse}\")\n",
    "print(f\"MSE: {mse}\")\n",
    "print(f\"RMSE: {rmse}\")\n",
    "print(f\"MAE: {mae}\")\n",
    "print(f\"R^2: {r2}\")\n"
   ]
  },
  {
   "cell_type": "markdown",
   "metadata": {},
   "source": [
    "Summary\n",
    "SSE (Sum of Squared Errors): Total sum of squared differences between observed and predicted values.\n",
    "MSE (Mean Squared Error): Average of the squared differences.\n",
    "RMSE (Root Mean Squared Error): Square root of MSE, in the same units as the response variable.\n",
    "MAE (Mean Absolute Error): Average of absolute differences.\n",
    "𝑅\n",
    "2\n",
    "R \n",
    "2\n",
    "  (R-Squared): Proportion of variance explained by the model.\n",
    "Adjusted \n",
    "𝑅\n",
    "2\n",
    "R \n",
    "2\n",
    " : Adjusted version of \n",
    "𝑅\n",
    "2\n",
    "R \n",
    "2\n",
    "  accounting for the number of predictors.\n",
    "MAPE (Mean Absolute Percentage Error): Average absolute percentage error.\n",
    "These metrics provide a comprehensive view of the model’s performance, allowing for better evaluation and comparison of different models."
   ]
  }
 ],
 "metadata": {
  "kernelspec": {
   "display_name": "Python 3",
   "language": "python",
   "name": "python3"
  },
  "language_info": {
   "codemirror_mode": {
    "name": "ipython",
    "version": 3
   },
   "file_extension": ".py",
   "mimetype": "text/x-python",
   "name": "python",
   "nbconvert_exporter": "python",
   "pygments_lexer": "ipython3",
   "version": "3.11.7"
  }
 },
 "nbformat": 4,
 "nbformat_minor": 2
}
