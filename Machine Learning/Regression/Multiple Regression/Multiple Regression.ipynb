{
 "cells": [
  {
   "cell_type": "markdown",
   "metadata": {},
   "source": [
    "Suppose you are working for a real estate agency, and you want to predict the selling price of houses based on several features such as square footage, number of bedrooms, number of bathrooms, and distance to the city center. You have collected a dataset containing these features as well as the selling prices of houses. Using multiple regression analysis, how would you build a model to predict the selling price of houses, and what factors would you consider when interpreting the coefficients of the model?"
   ]
  },
  {
   "cell_type": "code",
   "execution_count": 16,
   "metadata": {},
   "outputs": [],
   "source": [
    "import numpy as np\n",
    "from scipy.stats import linregress\n",
    "from matplotlib import pyplot as plt\n",
    "import random\n",
    "from sklearn import linear_model"
   ]
  },
  {
   "cell_type": "code",
   "execution_count": 3,
   "metadata": {},
   "outputs": [],
   "source": [
    "# Collected Data\n",
    "data = {\n",
    "    'Square_Footage': [1200, 1500, 1800, 1350, 1100],\n",
    "    'Bedrooms': [2, 3, 4, 3, 2],\n",
    "    'Bathrooms': [1, 2, 2, 1, 3],\n",
    "    'Distance_to_City_Center': [5, 10, 2, 8, 3],\n",
    "    'Selling_Price': [200000, 250000, 300000, 220000, 180000]\n",
    "}"
   ]
  },
  {
   "cell_type": "code",
   "execution_count": 4,
   "metadata": {},
   "outputs": [
    {
     "name": "stdout",
     "output_type": "stream",
     "text": [
      "[200000, 250000, 300000, 220000, 180000]\n"
     ]
    }
   ],
   "source": [
    "# Training data\n",
    "dependent_training_variable = data['Selling_Price']\n",
    "print(dependent_training_variable)"
   ]
  },
  {
   "cell_type": "code",
   "execution_count": 5,
   "metadata": {},
   "outputs": [
    {
     "name": "stdout",
     "output_type": "stream",
     "text": [
      "[[1200, 1500, 1800, 1350, 1100], [2, 3, 4, 3, 2], [1, 2, 2, 1, 3], [5, 10, 2, 8, 3]]\n"
     ]
    }
   ],
   "source": [
    "# Predictors\n",
    "sqft = data['Square_Footage']\n",
    "bedrooms = data['Bedrooms']\n",
    "bathrooms = data['Bathrooms']\n",
    "distance_to_city = data['Distance_to_City_Center']\n",
    "\n",
    "list_of_independent_variables = [\n",
    "    sqft,\n",
    "    bedrooms,\n",
    "    bathrooms,\n",
    "    distance_to_city\n",
    "]\n",
    "print(list_of_independent_variables)"
   ]
  },
  {
   "cell_type": "code",
   "execution_count": 6,
   "metadata": {},
   "outputs": [],
   "source": [
    "# Calculate Coefficient(s)\n",
    "\n",
    "def slope(independent_variables: list, dependant_variables: list = dependent_training_variable):\n",
    "    \n",
    "    # Running Validations\n",
    "    print(\"Running Validations...\")\n",
    "    if len(independent_variables) != len(dependant_variables):\n",
    "        raise TypeError (f\"{independent_variables} should have: {len(dependant_variables)} observations.\\nYours had: {len(independent_variables)}\")\n",
    "    \n",
    "    for observation in independent_variables:\n",
    "        if not isinstance(observation, int):\n",
    "            raise TypeError (f\"{independent_variables} should have intager values.\\n{observation} is of type: {type(observation)}.\")\n",
    "    \n",
    "    print(\"Validations Passed...\")\n",
    "    print(\"Proceeding to arithmetic opperations...\")\n",
    "\n",
    "\n",
    "    y_1 = independent_variables[len( independent_variables) // 2]\n",
    "    y_2 = independent_variables[(len( independent_variables) + 2) // 2]\n",
    "\n",
    "    x_1 = dependant_variables[len(dependant_variables) // 2]\n",
    "    x_2 = dependant_variables[(len(dependant_variables) + 2) // 2]\n",
    "\n",
    "    change_in_y = (y_1 - y_2)\n",
    "    change_in_x = (x_1 - x_2)\n",
    "    \n",
    "    print(f\"Change in y: {change_in_y}\")\n",
    "    print(f\"Change in x: {change_in_x}\")\n",
    "\n",
    "    gradient_coefficient = change_in_y / change_in_x\n",
    "\n",
    "    print(f\"The coefficient of {independent_variables} and {dependant_variables} is: {gradient_coefficient}\\n\")\n",
    "\n",
    "    return gradient_coefficient"
   ]
  },
  {
   "cell_type": "code",
   "execution_count": 19,
   "metadata": {},
   "outputs": [
    {
     "name": "stdout",
     "output_type": "stream",
     "text": [
      "Running Validations...\n",
      "Validations Passed...\n",
      "Proceeding to arithmetic opperations...\n",
      "Change in y: 450\n",
      "Change in x: 80000\n",
      "The coefficient of [1200, 1500, 1800, 1350, 1100] and [200000, 250000, 300000, 220000, 180000] is: 0.005625\n",
      "\n",
      "Running Validations...\n",
      "Validations Passed...\n",
      "Proceeding to arithmetic opperations...\n",
      "Change in y: 1\n",
      "Change in x: 80000\n",
      "The coefficient of [2, 3, 4, 3, 2] and [200000, 250000, 300000, 220000, 180000] is: 1.25e-05\n",
      "\n",
      "Running Validations...\n",
      "Validations Passed...\n",
      "Proceeding to arithmetic opperations...\n",
      "Change in y: 1\n",
      "Change in x: 80000\n",
      "The coefficient of [1, 2, 2, 1, 3] and [200000, 250000, 300000, 220000, 180000] is: 1.25e-05\n",
      "\n",
      "Running Validations...\n",
      "Validations Passed...\n",
      "Proceeding to arithmetic opperations...\n",
      "Change in y: -6\n",
      "Change in x: 80000\n",
      "The coefficient of [5, 10, 2, 8, 3] and [200000, 250000, 300000, 220000, 180000] is: -7.5e-05\n",
      "\n"
     ]
    }
   ],
   "source": [
    "# Slope Calculation\n",
    "slope_of_sqft = slope(sqft)\n",
    "slope_of_bedrooms = slope(bedrooms)\n",
    "slope_of_bathrooms = slope(bathrooms)\n",
    "slope_of_distance_to_city = slope(distance_to_city)\n",
    "\n",
    "list_of_slopes = [\n",
    "    slope_of_sqft,\n",
    "    slope_of_bedrooms,\n",
    "    slope_of_bathrooms,\n",
    "    slope_of_distance_to_city,\n",
    "                  ]\n"
   ]
  },
  {
   "cell_type": "code",
   "execution_count": 8,
   "metadata": {},
   "outputs": [
    {
     "name": "stdout",
     "output_type": "stream",
     "text": [
      "[0.005625, 1.25e-05, 1.25e-05, -7.5e-05]\n"
     ]
    }
   ],
   "source": [
    "print(list_of_slopes)"
   ]
  },
  {
   "cell_type": "code",
   "execution_count": 9,
   "metadata": {},
   "outputs": [],
   "source": [
    "# Calculate Mean of Each List in Array\n",
    "def mean_calculator(arry: list):\n",
    "    collected_means = []\n",
    "\n",
    "    for sublist in arry:\n",
    "        mean_of_each_x_value = sum(sublist) / len(sublist)\n",
    "        collected_means.append(mean_of_each_x_value)\n",
    "\n",
    "    return collected_means\n",
    "\n",
    "# Calculate Intercept\n",
    "def intercept(independent_variables: list, dependent_variable: list = dependent_training_variable, list_of_slopes: list = list_of_slopes):\n",
    "    slope_and_x_mean_multiples = []\n",
    "    position = 0\n",
    "    number_of_operations = len(independent_variables)\n",
    "\n",
    "    mean_of_y = sum(dependent_variable) / len(dependent_variable)\n",
    "    mean_of_x_values = mean_calculator(independent_variables)\n",
    "\n",
    "    subtracted_value_slope_and_mean = list_of_slopes[0] * mean_of_x_values[0]\n",
    "    \n",
    "    number_of_slope_values = len(list_of_slopes)\n",
    "    mean_of_independent_values = sum(sum(sublist) for sublist in independent_variables) / sum(len(sublist) for sublist in independent_variables)\n",
    "    multiple_of_n_slope_and_mean_of_x = number_of_slope_values * mean_of_independent_values\n",
    "\n",
    "    while number_of_operations > 0:\n",
    "        occurrence = list_of_slopes[position] * mean_of_x_values[position]\n",
    "        slope_and_x_mean_multiples.append(occurrence)\n",
    "        \n",
    "        position += 1\n",
    "        number_of_operations -= 1\n",
    "    \n",
    "    for i in range(1, len(slope_and_x_mean_multiples)):\n",
    "        subtracted_value_slope_and_mean -= slope_and_x_mean_multiples[i]\n",
    "\n",
    "    intercept_for_multiple_regression = mean_of_y - subtracted_value_slope_and_mean - multiple_of_n_slope_and_mean_of_x\n",
    "    print(f\"The intercept is: {intercept_for_multiple_regression}\")\n",
    "\n",
    "    return intercept_for_multiple_regression\n"
   ]
  },
  {
   "cell_type": "code",
   "execution_count": 18,
   "metadata": {},
   "outputs": [
    {
     "name": "stdout",
     "output_type": "stream",
     "text": [
      "The intercept is: 228591.9808875\n"
     ]
    }
   ],
   "source": [
    "intercept_value = intercept (list_of_independent_variables, dependent_training_variable, list_of_slopes)"
   ]
  },
  {
   "cell_type": "code",
   "execution_count": 17,
   "metadata": {},
   "outputs": [
    {
     "ename": "ValueError",
     "evalue": "Found input variables with inconsistent numbers of samples: [4, 5]",
     "output_type": "error",
     "traceback": [
      "\u001b[1;31m---------------------------------------------------------------------------\u001b[0m",
      "\u001b[1;31mValueError\u001b[0m                                Traceback (most recent call last)",
      "Cell \u001b[1;32mIn[17], line 2\u001b[0m\n\u001b[0;32m      1\u001b[0m regr \u001b[38;5;241m=\u001b[39m linear_model\u001b[38;5;241m.\u001b[39mLinearRegression()\n\u001b[1;32m----> 2\u001b[0m regr\u001b[38;5;241m.\u001b[39mfit(list_of_independent_variables, dependent_training_variable)\n",
      "File \u001b[1;32mc:\\Users\\Swiga\\anaconda3\\Lib\\site-packages\\sklearn\\linear_model\\_base.py:648\u001b[0m, in \u001b[0;36mLinearRegression.fit\u001b[1;34m(self, X, y, sample_weight)\u001b[0m\n\u001b[0;32m    644\u001b[0m n_jobs_ \u001b[38;5;241m=\u001b[39m \u001b[38;5;28mself\u001b[39m\u001b[38;5;241m.\u001b[39mn_jobs\n\u001b[0;32m    646\u001b[0m accept_sparse \u001b[38;5;241m=\u001b[39m \u001b[38;5;28;01mFalse\u001b[39;00m \u001b[38;5;28;01mif\u001b[39;00m \u001b[38;5;28mself\u001b[39m\u001b[38;5;241m.\u001b[39mpositive \u001b[38;5;28;01melse\u001b[39;00m [\u001b[38;5;124m\"\u001b[39m\u001b[38;5;124mcsr\u001b[39m\u001b[38;5;124m\"\u001b[39m, \u001b[38;5;124m\"\u001b[39m\u001b[38;5;124mcsc\u001b[39m\u001b[38;5;124m\"\u001b[39m, \u001b[38;5;124m\"\u001b[39m\u001b[38;5;124mcoo\u001b[39m\u001b[38;5;124m\"\u001b[39m]\n\u001b[1;32m--> 648\u001b[0m X, y \u001b[38;5;241m=\u001b[39m \u001b[38;5;28mself\u001b[39m\u001b[38;5;241m.\u001b[39m_validate_data(\n\u001b[0;32m    649\u001b[0m     X, y, accept_sparse\u001b[38;5;241m=\u001b[39maccept_sparse, y_numeric\u001b[38;5;241m=\u001b[39m\u001b[38;5;28;01mTrue\u001b[39;00m, multi_output\u001b[38;5;241m=\u001b[39m\u001b[38;5;28;01mTrue\u001b[39;00m\n\u001b[0;32m    650\u001b[0m )\n\u001b[0;32m    652\u001b[0m sample_weight \u001b[38;5;241m=\u001b[39m _check_sample_weight(\n\u001b[0;32m    653\u001b[0m     sample_weight, X, dtype\u001b[38;5;241m=\u001b[39mX\u001b[38;5;241m.\u001b[39mdtype, only_non_negative\u001b[38;5;241m=\u001b[39m\u001b[38;5;28;01mTrue\u001b[39;00m\n\u001b[0;32m    654\u001b[0m )\n\u001b[0;32m    656\u001b[0m X, y, X_offset, y_offset, X_scale \u001b[38;5;241m=\u001b[39m _preprocess_data(\n\u001b[0;32m    657\u001b[0m     X,\n\u001b[0;32m    658\u001b[0m     y,\n\u001b[1;32m   (...)\u001b[0m\n\u001b[0;32m    661\u001b[0m     sample_weight\u001b[38;5;241m=\u001b[39msample_weight,\n\u001b[0;32m    662\u001b[0m )\n",
      "File \u001b[1;32mc:\\Users\\Swiga\\anaconda3\\Lib\\site-packages\\sklearn\\base.py:584\u001b[0m, in \u001b[0;36mBaseEstimator._validate_data\u001b[1;34m(self, X, y, reset, validate_separately, **check_params)\u001b[0m\n\u001b[0;32m    582\u001b[0m         y \u001b[38;5;241m=\u001b[39m check_array(y, input_name\u001b[38;5;241m=\u001b[39m\u001b[38;5;124m\"\u001b[39m\u001b[38;5;124my\u001b[39m\u001b[38;5;124m\"\u001b[39m, \u001b[38;5;241m*\u001b[39m\u001b[38;5;241m*\u001b[39mcheck_y_params)\n\u001b[0;32m    583\u001b[0m     \u001b[38;5;28;01melse\u001b[39;00m:\n\u001b[1;32m--> 584\u001b[0m         X, y \u001b[38;5;241m=\u001b[39m check_X_y(X, y, \u001b[38;5;241m*\u001b[39m\u001b[38;5;241m*\u001b[39mcheck_params)\n\u001b[0;32m    585\u001b[0m     out \u001b[38;5;241m=\u001b[39m X, y\n\u001b[0;32m    587\u001b[0m \u001b[38;5;28;01mif\u001b[39;00m \u001b[38;5;129;01mnot\u001b[39;00m no_val_X \u001b[38;5;129;01mand\u001b[39;00m check_params\u001b[38;5;241m.\u001b[39mget(\u001b[38;5;124m\"\u001b[39m\u001b[38;5;124mensure_2d\u001b[39m\u001b[38;5;124m\"\u001b[39m, \u001b[38;5;28;01mTrue\u001b[39;00m):\n",
      "File \u001b[1;32mc:\\Users\\Swiga\\anaconda3\\Lib\\site-packages\\sklearn\\utils\\validation.py:1124\u001b[0m, in \u001b[0;36mcheck_X_y\u001b[1;34m(X, y, accept_sparse, accept_large_sparse, dtype, order, copy, force_all_finite, ensure_2d, allow_nd, multi_output, ensure_min_samples, ensure_min_features, y_numeric, estimator)\u001b[0m\n\u001b[0;32m   1106\u001b[0m X \u001b[38;5;241m=\u001b[39m check_array(\n\u001b[0;32m   1107\u001b[0m     X,\n\u001b[0;32m   1108\u001b[0m     accept_sparse\u001b[38;5;241m=\u001b[39maccept_sparse,\n\u001b[1;32m   (...)\u001b[0m\n\u001b[0;32m   1119\u001b[0m     input_name\u001b[38;5;241m=\u001b[39m\u001b[38;5;124m\"\u001b[39m\u001b[38;5;124mX\u001b[39m\u001b[38;5;124m\"\u001b[39m,\n\u001b[0;32m   1120\u001b[0m )\n\u001b[0;32m   1122\u001b[0m y \u001b[38;5;241m=\u001b[39m _check_y(y, multi_output\u001b[38;5;241m=\u001b[39mmulti_output, y_numeric\u001b[38;5;241m=\u001b[39my_numeric, estimator\u001b[38;5;241m=\u001b[39mestimator)\n\u001b[1;32m-> 1124\u001b[0m check_consistent_length(X, y)\n\u001b[0;32m   1126\u001b[0m \u001b[38;5;28;01mreturn\u001b[39;00m X, y\n",
      "File \u001b[1;32mc:\\Users\\Swiga\\anaconda3\\Lib\\site-packages\\sklearn\\utils\\validation.py:397\u001b[0m, in \u001b[0;36mcheck_consistent_length\u001b[1;34m(*arrays)\u001b[0m\n\u001b[0;32m    395\u001b[0m uniques \u001b[38;5;241m=\u001b[39m np\u001b[38;5;241m.\u001b[39munique(lengths)\n\u001b[0;32m    396\u001b[0m \u001b[38;5;28;01mif\u001b[39;00m \u001b[38;5;28mlen\u001b[39m(uniques) \u001b[38;5;241m>\u001b[39m \u001b[38;5;241m1\u001b[39m:\n\u001b[1;32m--> 397\u001b[0m     \u001b[38;5;28;01mraise\u001b[39;00m \u001b[38;5;167;01mValueError\u001b[39;00m(\n\u001b[0;32m    398\u001b[0m         \u001b[38;5;124m\"\u001b[39m\u001b[38;5;124mFound input variables with inconsistent numbers of samples: \u001b[39m\u001b[38;5;132;01m%r\u001b[39;00m\u001b[38;5;124m\"\u001b[39m\n\u001b[0;32m    399\u001b[0m         \u001b[38;5;241m%\u001b[39m [\u001b[38;5;28mint\u001b[39m(l) \u001b[38;5;28;01mfor\u001b[39;00m l \u001b[38;5;129;01min\u001b[39;00m lengths]\n\u001b[0;32m    400\u001b[0m     )\n",
      "\u001b[1;31mValueError\u001b[0m: Found input variables with inconsistent numbers of samples: [4, 5]"
     ]
    }
   ],
   "source": [
    "regr = linear_model.LinearRegression()\n",
    "regr.fit(list_of_independent_variables, dependent_training_variable)\n",
    "\n"
   ]
  },
  {
   "cell_type": "code",
   "execution_count": 14,
   "metadata": {},
   "outputs": [
    {
     "name": "stdout",
     "output_type": "stream",
     "text": [
      "0 [1200, 1500, 1800, 1350, 1100]\n",
      "<class 'float'> <class 'list'> <class 'float'>\n"
     ]
    },
    {
     "ename": "TypeError",
     "evalue": "'NoneType' object is not iterable",
     "output_type": "error",
     "traceback": [
      "\u001b[1;31m---------------------------------------------------------------------------\u001b[0m",
      "\u001b[1;31mTypeError\u001b[0m                                 Traceback (most recent call last)",
      "Cell \u001b[1;32mIn[14], line 16\u001b[0m\n\u001b[0;32m     13\u001b[0m \u001b[38;5;28mprint\u001b[39m(position, independent_variable)\n\u001b[0;32m     14\u001b[0m gradient \u001b[38;5;241m=\u001b[39m list_of_slopes[position]\n\u001b[1;32m---> 16\u001b[0m my_model \u001b[38;5;241m=\u001b[39m \u001b[38;5;28mlist\u001b[39m(linear_equation_function(gradient, list_of_independent_variables[position]))\n\u001b[0;32m     17\u001b[0m list_of_y_hut\u001b[38;5;241m.\u001b[39mappend(my_model)\n",
      "\u001b[1;31mTypeError\u001b[0m: 'NoneType' object is not iterable"
     ]
    }
   ],
   "source": [
    "# Fix Logical Error...\n",
    "def linear_equation_function(gradient, x = None, intercept = intercept_value):\n",
    "    if x == None:\n",
    "        return gradient\n",
    "    else:\n",
    "        try:\n",
    "            return gradient * x + intercept\n",
    "        except TypeError as e:\n",
    "            print(type(gradient), type(x), type(intercept))\n",
    "\n",
    "list_of_y_hut = []\n",
    "\n",
    "for position, independent_variable in enumerate(list_of_independent_variables):\n",
    "    print(position, independent_variable)\n",
    "    gradient = list_of_slopes[position]\n",
    "\n",
    "    my_model = list(linear_equation_function(gradient, list_of_independent_variables[position]))\n",
    "    list_of_y_hut.append(my_model)\n",
    "\n",
    "\n",
    "#\n",
    "\n"
   ]
  },
  {
   "cell_type": "code",
   "execution_count": null,
   "metadata": {},
   "outputs": [],
   "source": [
    "# Residuals\n",
    "def residuals():\n",
    "    pass"
   ]
  },
  {
   "cell_type": "code",
   "execution_count": null,
   "metadata": {},
   "outputs": [],
   "source": [
    "# Mordular Calculation"
   ]
  }
 ],
 "metadata": {
  "kernelspec": {
   "display_name": "base",
   "language": "python",
   "name": "python3"
  },
  "language_info": {
   "codemirror_mode": {
    "name": "ipython",
    "version": 3
   },
   "file_extension": ".py",
   "mimetype": "text/x-python",
   "name": "python",
   "nbconvert_exporter": "python",
   "pygments_lexer": "ipython3",
   "version": "3.11.7"
  }
 },
 "nbformat": 4,
 "nbformat_minor": 2
}
